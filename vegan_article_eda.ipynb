{
 "cells": [
  {
   "cell_type": "markdown",
   "source": [
    "# NLP Exploratory Data Exploration (EDA)"
   ],
   "metadata": {}
  },
  {
   "cell_type": "code",
   "execution_count": 13,
   "source": [
    "import pandas as pd\r\n",
    "import numpy as np"
   ],
   "outputs": [],
   "metadata": {}
  },
  {
   "cell_type": "code",
   "execution_count": 4,
   "source": [
    "file = r\"C:\\Users\\19802\\Documents\\dev\\Vegan_Articles.csv\""
   ],
   "outputs": [],
   "metadata": {}
  },
  {
   "cell_type": "code",
   "execution_count": 5,
   "source": [
    "df=pd.read_csv(file)"
   ],
   "outputs": [],
   "metadata": {}
  },
  {
   "cell_type": "code",
   "execution_count": 14,
   "source": [
    "df.head(3)"
   ],
   "outputs": [
    {
     "output_type": "execute_result",
     "data": {
      "text/html": [
       "<div>\n",
       "<style scoped>\n",
       "    .dataframe tbody tr th:only-of-type {\n",
       "        vertical-align: middle;\n",
       "    }\n",
       "\n",
       "    .dataframe tbody tr th {\n",
       "        vertical-align: top;\n",
       "    }\n",
       "\n",
       "    .dataframe thead th {\n",
       "        text-align: right;\n",
       "    }\n",
       "</style>\n",
       "<table border=\"1\" class=\"dataframe\">\n",
       "  <thead>\n",
       "    <tr style=\"text-align: right;\">\n",
       "      <th></th>\n",
       "      <th>Title</th>\n",
       "      <th>Link</th>\n",
       "      <th>Date</th>\n",
       "      <th>Text</th>\n",
       "    </tr>\n",
       "  </thead>\n",
       "  <tbody>\n",
       "    <tr>\n",
       "      <th>0</th>\n",
       "      <td>Vegan Athlete Wins ‘World’s Toughest Race’ For...</td>\n",
       "      <td>https://plantbasednews.org/culture/sport/vegan...</td>\n",
       "      <td>07/21/2021</td>\n",
       "      <td>Vegan ultrarunner Harvey Lewis just snagged fi...</td>\n",
       "    </tr>\n",
       "    <tr>\n",
       "      <th>1</th>\n",
       "      <td>How The Meat Industry Is Mimicking Tobacco Gia...</td>\n",
       "      <td>https://plantbasednews.org/news/environment/me...</td>\n",
       "      <td>07/21/2021</td>\n",
       "      <td>The meat industry across the globe is mimickin...</td>\n",
       "    </tr>\n",
       "    <tr>\n",
       "      <th>2</th>\n",
       "      <td>Vegan Cheese Company Hit By Vandalism Prompts ...</td>\n",
       "      <td>https://plantbasednews.org/lifestyle/food/vega...</td>\n",
       "      <td>07/21/2021</td>\n",
       "      <td>A London-based artisan vegan cheese company ha...</td>\n",
       "    </tr>\n",
       "  </tbody>\n",
       "</table>\n",
       "</div>"
      ],
      "text/plain": [
       "                                               Title  \\\n",
       "0  Vegan Athlete Wins ‘World’s Toughest Race’ For...   \n",
       "1  How The Meat Industry Is Mimicking Tobacco Gia...   \n",
       "2  Vegan Cheese Company Hit By Vandalism Prompts ...   \n",
       "\n",
       "                                                Link        Date  \\\n",
       "0  https://plantbasednews.org/culture/sport/vegan...  07/21/2021   \n",
       "1  https://plantbasednews.org/news/environment/me...  07/21/2021   \n",
       "2  https://plantbasednews.org/lifestyle/food/vega...  07/21/2021   \n",
       "\n",
       "                                                Text  \n",
       "0  Vegan ultrarunner Harvey Lewis just snagged fi...  \n",
       "1  The meat industry across the globe is mimickin...  \n",
       "2  A London-based artisan vegan cheese company ha...  "
      ]
     },
     "metadata": {},
     "execution_count": 14
    }
   ],
   "metadata": {}
  },
  {
   "cell_type": "code",
   "execution_count": 15,
   "source": [
    "df.describe()"
   ],
   "outputs": [
    {
     "output_type": "execute_result",
     "data": {
      "text/html": [
       "<div>\n",
       "<style scoped>\n",
       "    .dataframe tbody tr th:only-of-type {\n",
       "        vertical-align: middle;\n",
       "    }\n",
       "\n",
       "    .dataframe tbody tr th {\n",
       "        vertical-align: top;\n",
       "    }\n",
       "\n",
       "    .dataframe thead th {\n",
       "        text-align: right;\n",
       "    }\n",
       "</style>\n",
       "<table border=\"1\" class=\"dataframe\">\n",
       "  <thead>\n",
       "    <tr style=\"text-align: right;\">\n",
       "      <th></th>\n",
       "      <th>Title</th>\n",
       "      <th>Link</th>\n",
       "      <th>Date</th>\n",
       "      <th>Text</th>\n",
       "    </tr>\n",
       "  </thead>\n",
       "  <tbody>\n",
       "    <tr>\n",
       "      <th>count</th>\n",
       "      <td>27651</td>\n",
       "      <td>27651</td>\n",
       "      <td>27651</td>\n",
       "      <td>27651</td>\n",
       "    </tr>\n",
       "    <tr>\n",
       "      <th>unique</th>\n",
       "      <td>27599</td>\n",
       "      <td>27622</td>\n",
       "      <td>4234</td>\n",
       "      <td>27604</td>\n",
       "    </tr>\n",
       "    <tr>\n",
       "      <th>top</th>\n",
       "      <td>COVER CRYSTAL BALL</td>\n",
       "      <td>https://vegnews.com/2015/10/mainstream-mondays</td>\n",
       "      <td>05/01/2018</td>\n",
       "      <td></td>\n",
       "    </tr>\n",
       "    <tr>\n",
       "      <th>freq</th>\n",
       "      <td>4</td>\n",
       "      <td>3</td>\n",
       "      <td>29</td>\n",
       "      <td>13</td>\n",
       "    </tr>\n",
       "  </tbody>\n",
       "</table>\n",
       "</div>"
      ],
      "text/plain": [
       "                     Title                                            Link  \\\n",
       "count                27651                                           27651   \n",
       "unique               27599                                           27622   \n",
       "top     COVER CRYSTAL BALL  https://vegnews.com/2015/10/mainstream-mondays   \n",
       "freq                     4                                               3   \n",
       "\n",
       "              Date   Text  \n",
       "count        27651  27651  \n",
       "unique        4234  27604  \n",
       "top     05/01/2018         \n",
       "freq            29     13  "
      ]
     },
     "metadata": {},
     "execution_count": 15
    }
   ],
   "metadata": {}
  },
  {
   "cell_type": "markdown",
   "source": [
    "## Analyze Text Statistics     \r\n",
    "  \r\n",
    "First, lets loko at the number of charcters present in the titles."
   ],
   "metadata": {}
  },
  {
   "cell_type": "code",
   "execution_count": 7,
   "source": [
    "df[\"Title\"].str.len().hist()"
   ],
   "outputs": [
    {
     "output_type": "execute_result",
     "data": {
      "text/plain": [
       "<AxesSubplot:>"
      ]
     },
     "metadata": {},
     "execution_count": 7
    },
    {
     "output_type": "display_data",
     "data": {
      "image/png": "[encoded data removed]",
      "text/plain": [
       "<Figure size 432x288 with 1 Axes>"
      ]
     },
     "metadata": {
      "needs_background": "light"
     }
    }
   ],
   "metadata": {}
  },
  {
   "cell_type": "markdown",
   "source": [
    "This shows titles range between 20 to 100 characters generally.  \r\n",
    "  \r\n",
    "Now the looking at text."
   ],
   "metadata": {}
  },
  {
   "cell_type": "code",
   "execution_count": 8,
   "source": [
    "df[\"Text\"].str.len().hist()"
   ],
   "outputs": [
    {
     "output_type": "execute_result",
     "data": {
      "text/plain": [
       "<AxesSubplot:>"
      ]
     },
     "metadata": {},
     "execution_count": 8
    },
    {
     "output_type": "display_data",
     "data": {
      "image/png": "[encoded data removed]",
      "text/plain": [
       "<Figure size 432x288 with 1 Axes>"
      ]
     },
     "metadata": {
      "needs_background": "light"
     }
    }
   ],
   "metadata": {}
  },
  {
   "cell_type": "markdown",
   "source": [
    "\r\n",
    "The number of words in the titles ranges from 0 to 1000 and mostly falls between 0 to 4500 words.\r\n",
    "\r\n",
    "Check the average word length in each sentence.\r\n",
    "\r\n"
   ],
   "metadata": {}
  },
  {
   "cell_type": "code",
   "execution_count": 17,
   "source": [
    "df['Title'].str.split().\\\r\n",
    "    apply(lambda x : [len(i) for i in x]). \\\r\n",
    "    map(lambda x: np.mean(x)).hist()"
   ],
   "outputs": [
    {
     "output_type": "execute_result",
     "data": {
      "text/plain": [
       "<AxesSubplot:>"
      ]
     },
     "metadata": {},
     "execution_count": 17
    },
    {
     "output_type": "display_data",
     "data": {
      "image/png": "[encoded data removed]",
      "text/plain": [
       "<Figure size 432x288 with 1 Axes>"
      ]
     },
     "metadata": {
      "needs_background": "light"
     }
    }
   ],
   "metadata": {}
  },
  {
   "cell_type": "markdown",
   "source": [
    "The average word length ranges between 5 to 15.   \r\n",
    "  \r\n",
    "Does it mean that people are using really short words in Titles?"
   ],
   "metadata": {}
  },
  {
   "cell_type": "code",
   "execution_count": null,
   "source": [],
   "outputs": [],
   "metadata": {}
  },
  {
   "cell_type": "markdown",
   "source": [
    "---  \r\n",
    "## <u>References</u>  \r\n",
    "- [EDA-NLP Neputune AI](https://neptune.ai/blog/exploratory-data-analysis-natural-language-processing-tools)  \r\n",
    "\r\n",
    "- [Data from Kaggle](https://www.kaggle.com/adrinlandaverdenava/vegan-news)  \r\n",
    "\r\n",
    "\r\n",
    "---  "
   ],
   "metadata": {}
  }
 ],
 "metadata": {
  "orig_nbformat": 4,
  "language_info": {
   "name": "python",
   "version": "3.8.12",
   "mimetype": "text/x-python",
   "codemirror_mode": {
    "name": "ipython",
    "version": 3
   },
   "pygments_lexer": "ipython3",
   "nbconvert_exporter": "python",
   "file_extension": ".py"
  },
  "kernelspec": {
   "name": "python3",
   "display_name": "Python 3.8.12 64-bit ('nlp': conda)"
  },
  "interpreter": {
   "hash": "5f1bf9abfb0cc0df423ad96f28b34aad7cf4c14804607c16b526a5e3b8d38eed"
  }
 },
 "nbformat": 4,
 "nbformat_minor": 2
}