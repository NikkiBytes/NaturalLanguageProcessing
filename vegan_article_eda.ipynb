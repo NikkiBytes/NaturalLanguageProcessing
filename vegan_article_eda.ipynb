{
 "cells": [
  {
   "cell_type": "code",
   "execution_count": 2,
   "source": [
    "import os\r\n",
    "import pandas as pd"
   ],
   "outputs": [],
   "metadata": {}
  },
  {
   "cell_type": "code",
   "execution_count": 5,
   "source": [
    "file = r\"C:\\Users\\19802\\Documents\\dev\\nlp_practice\\Vegan_Articles.csv\""
   ],
   "outputs": [],
   "metadata": {}
  },
  {
   "cell_type": "code",
   "execution_count": 6,
   "source": [
    "df=pd.read_csv(file)"
   ],
   "outputs": [],
   "metadata": {}
  },
  {
   "cell_type": "code",
   "execution_count": 7,
   "source": [
    "df.head()"
   ],
   "outputs": [
    {
     "output_type": "execute_result",
     "data": {
      "text/html": [
       "<div>\n",
       "<style scoped>\n",
       "    .dataframe tbody tr th:only-of-type {\n",
       "        vertical-align: middle;\n",
       "    }\n",
       "\n",
       "    .dataframe tbody tr th {\n",
       "        vertical-align: top;\n",
       "    }\n",
       "\n",
       "    .dataframe thead th {\n",
       "        text-align: right;\n",
       "    }\n",
       "</style>\n",
       "<table border=\"1\" class=\"dataframe\">\n",
       "  <thead>\n",
       "    <tr style=\"text-align: right;\">\n",
       "      <th></th>\n",
       "      <th>Title</th>\n",
       "      <th>Link</th>\n",
       "      <th>Date</th>\n",
       "      <th>Text</th>\n",
       "    </tr>\n",
       "  </thead>\n",
       "  <tbody>\n",
       "    <tr>\n",
       "      <th>0</th>\n",
       "      <td>Vegan Athlete Wins ‘World’s Toughest Race’ For...</td>\n",
       "      <td>https://plantbasednews.org/culture/sport/vegan...</td>\n",
       "      <td>07/21/2021</td>\n",
       "      <td>Vegan ultrarunner Harvey Lewis just snagged fi...</td>\n",
       "    </tr>\n",
       "    <tr>\n",
       "      <th>1</th>\n",
       "      <td>How The Meat Industry Is Mimicking Tobacco Gia...</td>\n",
       "      <td>https://plantbasednews.org/news/environment/me...</td>\n",
       "      <td>07/21/2021</td>\n",
       "      <td>The meat industry across the globe is mimickin...</td>\n",
       "    </tr>\n",
       "    <tr>\n",
       "      <th>2</th>\n",
       "      <td>Vegan Cheese Company Hit By Vandalism Prompts ...</td>\n",
       "      <td>https://plantbasednews.org/lifestyle/food/vega...</td>\n",
       "      <td>07/21/2021</td>\n",
       "      <td>A London-based artisan vegan cheese company ha...</td>\n",
       "    </tr>\n",
       "    <tr>\n",
       "      <th>3</th>\n",
       "      <td>Why Billionaire Jim Mellon Is Predicting The E...</td>\n",
       "      <td>https://plantbasednews.org/lifestyle/food/bill...</td>\n",
       "      <td>07/21/2021</td>\n",
       "      <td>British billionaire and investor Jim Mellon is...</td>\n",
       "    </tr>\n",
       "    <tr>\n",
       "      <th>4</th>\n",
       "      <td>Seafood Giant Long John Silver’s Debuts Plant-...</td>\n",
       "      <td>https://plantbasednews.org/lifestyle/food/long...</td>\n",
       "      <td>07/20/2021</td>\n",
       "      <td>Long John Silver’s, a US-based seafood giant, ...</td>\n",
       "    </tr>\n",
       "  </tbody>\n",
       "</table>\n",
       "</div>"
      ],
      "text/plain": [
       "                                               Title  \\\n",
       "0  Vegan Athlete Wins ‘World’s Toughest Race’ For...   \n",
       "1  How The Meat Industry Is Mimicking Tobacco Gia...   \n",
       "2  Vegan Cheese Company Hit By Vandalism Prompts ...   \n",
       "3  Why Billionaire Jim Mellon Is Predicting The E...   \n",
       "4  Seafood Giant Long John Silver’s Debuts Plant-...   \n",
       "\n",
       "                                                Link        Date  \\\n",
       "0  https://plantbasednews.org/culture/sport/vegan...  07/21/2021   \n",
       "1  https://plantbasednews.org/news/environment/me...  07/21/2021   \n",
       "2  https://plantbasednews.org/lifestyle/food/vega...  07/21/2021   \n",
       "3  https://plantbasednews.org/lifestyle/food/bill...  07/21/2021   \n",
       "4  https://plantbasednews.org/lifestyle/food/long...  07/20/2021   \n",
       "\n",
       "                                                Text  \n",
       "0  Vegan ultrarunner Harvey Lewis just snagged fi...  \n",
       "1  The meat industry across the globe is mimickin...  \n",
       "2  A London-based artisan vegan cheese company ha...  \n",
       "3  British billionaire and investor Jim Mellon is...  \n",
       "4  Long John Silver’s, a US-based seafood giant, ...  "
      ]
     },
     "metadata": {},
     "execution_count": 7
    }
   ],
   "metadata": {}
  }
 ],
 "metadata": {
  "orig_nbformat": 4,
  "language_info": {
   "name": "python",
   "version": "3.8.10",
   "mimetype": "text/x-python",
   "codemirror_mode": {
    "name": "ipython",
    "version": 3
   },
   "pygments_lexer": "ipython3",
   "nbconvert_exporter": "python",
   "file_extension": ".py"
  },
  "kernelspec": {
   "name": "python3",
   "display_name": "Python 3.8.10 64-bit ('base': conda)"
  },
  "interpreter": {
   "hash": "e342038c98f7d4213227a89db7f796ea1c670485a252fec9cf20c3f8cd429f5d"
  }
 },
 "nbformat": 4,
 "nbformat_minor": 2
}