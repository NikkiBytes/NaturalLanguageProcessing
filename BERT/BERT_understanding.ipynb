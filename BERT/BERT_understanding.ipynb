{
 "cells": [
  {
   "cell_type": "markdown",
   "id": "1827b400-9c87-4269-8cc9-545bd8e1ed7e",
   "metadata": {},
   "source": [
    "# BERT -- in depth tutorial  "
   ]
  },
  {
   "cell_type": "markdown",
   "id": "2f6ea10a-8451-4432-ac16-93c7f7531de6",
   "metadata": {},
   "source": [
    "## Why has BERT become so popular?  \n",
    "  \n",
    "*Basically BERT is the stacking of encoders.* It is essentially a unidirection (left to right) transformer architecture. To build thie bi-directional transformer architecture, BERT uses encoder from the transformer instead of the decoders.   \n",
    "\n",
    "  \n",
    "BERT also introduces masked language modeling and next sentence prediction.   \n",
    "The four major parts to BERT are:  \n",
    "              \n",
    "    1. From Word to Vectors  \n",
    "    2. The Encoderes from the transformer  \n",
    "    3. Masked Language Modeling (MLM)  \n",
    "    4. Next Sentence Prediction (NSP)   \n",
    "      \n",
    "    \n",
    "**BERT takes two sentences as input at a time**."
   ]
  },
  {
   "cell_type": "markdown",
   "id": "b72bea52-44b6-4e48-82a3-d845ccf25093",
   "metadata": {},
   "source": [
    "https://www.kaggle.com/search?q=nlp+bert+date%3A90"
   ]
  },
  {
   "cell_type": "markdown",
   "id": "3b480610-e2bd-44e0-ad7f-3b23121ad33b",
   "metadata": {},
   "source": [
    "---"
   ]
  }
 ],
 "metadata": {
  "kernelspec": {
   "display_name": "Python 3",
   "language": "python",
   "name": "python3"
  },
  "language_info": {
   "codemirror_mode": {
    "name": "ipython",
    "version": 3
   },
   "file_extension": ".py",
   "mimetype": "text/x-python",
   "name": "python",
   "nbconvert_exporter": "python",
   "pygments_lexer": "ipython3",
   "version": "3.8.10"
  }
 },
 "nbformat": 4,
 "nbformat_minor": 5
}
