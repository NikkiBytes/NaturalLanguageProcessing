{
 "cells": [
  {
   "cell_type": "markdown",
   "source": [
    "# Text Pre-processing "
   ],
   "metadata": {}
  },
  {
   "cell_type": "code",
   "execution_count": 11,
   "source": [
    "import numpy as np\n",
    "import pandas as pd\n",
    "import re\n",
    "import nltk\n",
    "import spacy\n",
    "import string\n",
    "import glob\n",
    "from IPython.display import display, HTML\n",
    "\n",
    "\n",
    "pd.options.mode.chained_assignment = None\n"
   ],
   "outputs": [],
   "metadata": {}
  },
  {
   "cell_type": "code",
   "execution_count": 27,
   "source": [
    "# get the data\n",
    "sk_data1_folder = \"/Users/nacosta/Documents/research_topic/sk_data1\"\n",
    "sk_data1_files  = glob.glob(sk_data1_folder+\"/*.csv\")"
   ],
   "outputs": [],
   "metadata": {}
  },
  {
   "cell_type": "code",
   "execution_count": 28,
   "source": [
    "# set dataframes\n",
    "full_df = least_vic_df = pd.read_csv(sk_data1_files[0])\n"
   ],
   "outputs": [],
   "metadata": {}
  },
  {
   "cell_type": "code",
   "execution_count": 29,
   "source": [
    "full_df.columns"
   ],
   "outputs": [
    {
     "output_type": "execute_result",
     "data": {
      "text/plain": [
       "Index(['Name', 'Country', 'Years active', 'Proven victims', 'Possible victims',\n",
       "       'Notes'],\n",
       "      dtype='object')"
      ]
     },
     "metadata": {},
     "execution_count": 29
    }
   ],
   "metadata": {}
  },
  {
   "cell_type": "code",
   "execution_count": 30,
   "source": [
    "display(full_df.head())"
   ],
   "outputs": [
    {
     "output_type": "display_data",
     "data": {
      "text/html": [
       "<div>\n",
       "<style scoped>\n",
       "    .dataframe tbody tr th:only-of-type {\n",
       "        vertical-align: middle;\n",
       "    }\n",
       "\n",
       "    .dataframe tbody tr th {\n",
       "        vertical-align: top;\n",
       "    }\n",
       "\n",
       "    .dataframe thead th {\n",
       "        text-align: right;\n",
       "    }\n",
       "</style>\n",
       "<table border=\"1\" class=\"dataframe\">\n",
       "  <thead>\n",
       "    <tr style=\"text-align: right;\">\n",
       "      <th></th>\n",
       "      <th>Name</th>\n",
       "      <th>Country</th>\n",
       "      <th>Years active</th>\n",
       "      <th>Proven victims</th>\n",
       "      <th>Possible victims</th>\n",
       "      <th>Notes</th>\n",
       "    </tr>\n",
       "  </thead>\n",
       "  <tbody>\n",
       "    <tr>\n",
       "      <th>0</th>\n",
       "      <td>Charlie Brandt</td>\n",
       "      <td>United States</td>\n",
       "      <td>1971 to 2004</td>\n",
       "      <td>4</td>\n",
       "      <td>29</td>\n",
       "      <td>Committed suicide by hanging after murdering h...</td>\n",
       "    </tr>\n",
       "    <tr>\n",
       "      <th>1</th>\n",
       "      <td>Robert Black</td>\n",
       "      <td>United Kingdom\\r\\nIreland (suspected)\\r\\nWest ...</td>\n",
       "      <td>1981 to 1986</td>\n",
       "      <td>4</td>\n",
       "      <td>18+</td>\n",
       "      <td>Convicted of kidnapping, raping and murdering ...</td>\n",
       "    </tr>\n",
       "    <tr>\n",
       "      <th>2</th>\n",
       "      <td>Max Gufler</td>\n",
       "      <td>Austria</td>\n",
       "      <td>1946 to 1958</td>\n",
       "      <td>4</td>\n",
       "      <td>18</td>\n",
       "      <td>Poisoned and drowned four women, but suspected...</td>\n",
       "    </tr>\n",
       "    <tr>\n",
       "      <th>3</th>\n",
       "      <td>Ernesto Picchioni</td>\n",
       "      <td>Italy</td>\n",
       "      <td>1949 and earlier</td>\n",
       "      <td>4</td>\n",
       "      <td>16</td>\n",
       "      <td>Murdered people who approached his home; died ...</td>\n",
       "    </tr>\n",
       "    <tr>\n",
       "      <th>4</th>\n",
       "      <td>Baekuni</td>\n",
       "      <td>Indonesia</td>\n",
       "      <td>1993 to 2010</td>\n",
       "      <td>4</td>\n",
       "      <td>14</td>\n",
       "      <td>Pedophile who raped and killed young boys; ini...</td>\n",
       "    </tr>\n",
       "  </tbody>\n",
       "</table>\n",
       "</div>"
      ],
      "text/plain": [
       "                Name                                            Country  \\\n",
       "0     Charlie Brandt                                      United States   \n",
       "1       Robert Black  United Kingdom\\r\\nIreland (suspected)\\r\\nWest ...   \n",
       "2         Max Gufler                                            Austria   \n",
       "3  Ernesto Picchioni                                              Italy   \n",
       "4            Baekuni                                          Indonesia   \n",
       "\n",
       "       Years active  Proven victims Possible victims  \\\n",
       "0      1971 to 2004               4               29   \n",
       "1      1981 to 1986               4              18+   \n",
       "2      1946 to 1958               4               18   \n",
       "3  1949 and earlier               4               16   \n",
       "4      1993 to 2010               4               14   \n",
       "\n",
       "                                               Notes  \n",
       "0  Committed suicide by hanging after murdering h...  \n",
       "1  Convicted of kidnapping, raping and murdering ...  \n",
       "2  Poisoned and drowned four women, but suspected...  \n",
       "3  Murdered people who approached his home; died ...  \n",
       "4  Pedophile who raped and killed young boys; ini...  "
      ]
     },
     "metadata": {}
    }
   ],
   "metadata": {}
  },
  {
   "cell_type": "code",
   "execution_count": 31,
   "source": [
    "df = full_df[['Notes']]"
   ],
   "outputs": [],
   "metadata": {}
  },
  {
   "cell_type": "code",
   "execution_count": 34,
   "source": [
    "df['text'] = df['Notes'].astype(str)\n",
    "df = df[['text']]"
   ],
   "outputs": [],
   "metadata": {}
  },
  {
   "cell_type": "markdown",
   "source": [
    "---"
   ],
   "metadata": {}
  },
  {
   "cell_type": "markdown",
   "source": [
    "## Lower Casing  \n",
    "- common text processing technique  \n",
    "- by converting text(i.e. 'string', 'String', 'STRING') to a uniform case, we can treat the text the same way  \n",
    "- helpful for text featurization techniques like **frequency**, and  **term frequency-inverse document frequency(tfidf)** as it helps to combine the same words together thereby reducing the duplication and get correct counts / tfidf values.  \n",
    "- may not be helpful when we do tasks like **(Part of Speech tagging)** (where proper casing gives some information about Nouns and so on) and **Sentiment Analysis** (where upper casing refers to anger and so on)  \n",
    "- by default, lower casing is done my most of the modern day vecotirzers and tokenizers like sklearn TfidfVectorizer and Keras Tokenizer. *may need to set them to false as needed depending on use case.*"
   ],
   "metadata": {}
  },
  {
   "cell_type": "code",
   "execution_count": 35,
   "source": [
    "df[\"text_lower\"] = df[\"text\"].str.lower()\n",
    "df.head()"
   ],
   "outputs": [
    {
     "output_type": "execute_result",
     "data": {
      "text/html": [
       "<div>\n",
       "<style scoped>\n",
       "    .dataframe tbody tr th:only-of-type {\n",
       "        vertical-align: middle;\n",
       "    }\n",
       "\n",
       "    .dataframe tbody tr th {\n",
       "        vertical-align: top;\n",
       "    }\n",
       "\n",
       "    .dataframe thead th {\n",
       "        text-align: right;\n",
       "    }\n",
       "</style>\n",
       "<table border=\"1\" class=\"dataframe\">\n",
       "  <thead>\n",
       "    <tr style=\"text-align: right;\">\n",
       "      <th></th>\n",
       "      <th>text</th>\n",
       "      <th>text_lower</th>\n",
       "    </tr>\n",
       "  </thead>\n",
       "  <tbody>\n",
       "    <tr>\n",
       "      <th>0</th>\n",
       "      <td>Committed suicide by hanging after murdering h...</td>\n",
       "      <td>committed suicide by hanging after murdering h...</td>\n",
       "    </tr>\n",
       "    <tr>\n",
       "      <th>1</th>\n",
       "      <td>Convicted of kidnapping, raping and murdering ...</td>\n",
       "      <td>convicted of kidnapping, raping and murdering ...</td>\n",
       "    </tr>\n",
       "    <tr>\n",
       "      <th>2</th>\n",
       "      <td>Poisoned and drowned four women, but suspected...</td>\n",
       "      <td>poisoned and drowned four women, but suspected...</td>\n",
       "    </tr>\n",
       "    <tr>\n",
       "      <th>3</th>\n",
       "      <td>Murdered people who approached his home; died ...</td>\n",
       "      <td>murdered people who approached his home; died ...</td>\n",
       "    </tr>\n",
       "    <tr>\n",
       "      <th>4</th>\n",
       "      <td>Pedophile who raped and killed young boys; ini...</td>\n",
       "      <td>pedophile who raped and killed young boys; ini...</td>\n",
       "    </tr>\n",
       "  </tbody>\n",
       "</table>\n",
       "</div>"
      ],
      "text/plain": [
       "                                                text  \\\n",
       "0  Committed suicide by hanging after murdering h...   \n",
       "1  Convicted of kidnapping, raping and murdering ...   \n",
       "2  Poisoned and drowned four women, but suspected...   \n",
       "3  Murdered people who approached his home; died ...   \n",
       "4  Pedophile who raped and killed young boys; ini...   \n",
       "\n",
       "                                          text_lower  \n",
       "0  committed suicide by hanging after murdering h...  \n",
       "1  convicted of kidnapping, raping and murdering ...  \n",
       "2  poisoned and drowned four women, but suspected...  \n",
       "3  murdered people who approached his home; died ...  \n",
       "4  pedophile who raped and killed young boys; ini...  "
      ]
     },
     "metadata": {},
     "execution_count": 35
    }
   ],
   "metadata": {}
  },
  {
   "cell_type": "markdown",
   "source": [
    "## Punctuation Removal  \n",
    "- carefully choose the list of punctuations to exclude depending on the use case.  \n",
    "        `string.punctuation` in python contains the following punctuation symbols: `!\"#$%&\\'()*+,-./:;<=>?@[\\\\]^_{|}~` `\n",
    "\n"
   ],
   "metadata": {}
  },
  {
   "cell_type": "code",
   "execution_count": 36,
   "source": [
    "# drop the new column created in last cell\n",
    "df.drop([\"text_lower\"], axis=1, inplace=True)\n",
    "PUNCT_TO_REMOVE = string.punctuation\n",
    "def remove_punctuation(text):\n",
    "    \"\"\"custom function to remove the punctuation\"\"\"\n",
    "    return text.translate(str.maketrans('', '', PUNCT_TO_REMOVE))\n",
    "\n",
    "df[\"text_wo_punct\"] = df[\"text\"].apply(lambda text: remove_punctuation(text))\n",
    "df.head()"
   ],
   "outputs": [
    {
     "output_type": "execute_result",
     "data": {
      "text/html": [
       "<div>\n",
       "<style scoped>\n",
       "    .dataframe tbody tr th:only-of-type {\n",
       "        vertical-align: middle;\n",
       "    }\n",
       "\n",
       "    .dataframe tbody tr th {\n",
       "        vertical-align: top;\n",
       "    }\n",
       "\n",
       "    .dataframe thead th {\n",
       "        text-align: right;\n",
       "    }\n",
       "</style>\n",
       "<table border=\"1\" class=\"dataframe\">\n",
       "  <thead>\n",
       "    <tr style=\"text-align: right;\">\n",
       "      <th></th>\n",
       "      <th>text</th>\n",
       "      <th>text_wo_punct</th>\n",
       "    </tr>\n",
       "  </thead>\n",
       "  <tbody>\n",
       "    <tr>\n",
       "      <th>0</th>\n",
       "      <td>Committed suicide by hanging after murdering h...</td>\n",
       "      <td>Committed suicide by hanging after murdering h...</td>\n",
       "    </tr>\n",
       "    <tr>\n",
       "      <th>1</th>\n",
       "      <td>Convicted of kidnapping, raping and murdering ...</td>\n",
       "      <td>Convicted of kidnapping raping and murdering f...</td>\n",
       "    </tr>\n",
       "    <tr>\n",
       "      <th>2</th>\n",
       "      <td>Poisoned and drowned four women, but suspected...</td>\n",
       "      <td>Poisoned and drowned four women but suspected ...</td>\n",
       "    </tr>\n",
       "    <tr>\n",
       "      <th>3</th>\n",
       "      <td>Murdered people who approached his home; died ...</td>\n",
       "      <td>Murdered people who approached his home died o...</td>\n",
       "    </tr>\n",
       "    <tr>\n",
       "      <th>4</th>\n",
       "      <td>Pedophile who raped and killed young boys; ini...</td>\n",
       "      <td>Pedophile who raped and killed young boys init...</td>\n",
       "    </tr>\n",
       "  </tbody>\n",
       "</table>\n",
       "</div>"
      ],
      "text/plain": [
       "                                                text  \\\n",
       "0  Committed suicide by hanging after murdering h...   \n",
       "1  Convicted of kidnapping, raping and murdering ...   \n",
       "2  Poisoned and drowned four women, but suspected...   \n",
       "3  Murdered people who approached his home; died ...   \n",
       "4  Pedophile who raped and killed young boys; ini...   \n",
       "\n",
       "                                       text_wo_punct  \n",
       "0  Committed suicide by hanging after murdering h...  \n",
       "1  Convicted of kidnapping raping and murdering f...  \n",
       "2  Poisoned and drowned four women but suspected ...  \n",
       "3  Murdered people who approached his home died o...  \n",
       "4  Pedophile who raped and killed young boys init...  "
      ]
     },
     "metadata": {},
     "execution_count": 36
    }
   ],
   "metadata": {}
  },
  {
   "cell_type": "markdown",
   "source": [
    "---"
   ],
   "metadata": {}
  }
 ],
 "metadata": {
  "orig_nbformat": 4,
  "language_info": {
   "name": "python",
   "version": "3.8.13",
   "mimetype": "text/x-python",
   "codemirror_mode": {
    "name": "ipython",
    "version": 3
   },
   "pygments_lexer": "ipython3",
   "nbconvert_exporter": "python",
   "file_extension": ".py"
  },
  "kernelspec": {
   "name": "python3",
   "display_name": "Python 3.8.13 64-bit ('su_lab': conda)"
  },
  "interpreter": {
   "hash": "ef05315d5f008dd046167e10c6ddffaed5c65a031bde4d25d7d1e2bf86440ab1"
  }
 },
 "nbformat": 4,
 "nbformat_minor": 2
}