{
 "cells": [
  {
   "cell_type": "markdown",
   "id": "0251964a",
   "metadata": {},
   "source": [
    "# Natural Language Processing (NLP) \n"
   ]
  },
  {
   "cell_type": "markdown",
   "id": "50887d48",
   "metadata": {},
   "source": [
    "spacy package: leading NLP library. \n",
    "- relies on models that are language-specific and come in different sizes. "
   ]
  },
  {
   "cell_type": "code",
   "execution_count": 7,
   "id": "86402b26",
   "metadata": {},
   "outputs": [],
   "source": [
    "import spacy\n"
   ]
  },
  {
   "cell_type": "code",
   "execution_count": 8,
   "id": "89acaf51",
   "metadata": {},
   "outputs": [],
   "source": [
    "nlp=spacy.load('en_core_web_sm') # load English language model"
   ]
  },
  {
   "cell_type": "code",
   "execution_count": 10,
   "id": "9f813d8c",
   "metadata": {},
   "outputs": [],
   "source": [
    "doc = nlp(\"Tea is healthy and I love cats\") # process text like this"
   ]
  },
  {
   "cell_type": "code",
   "execution_count": 11,
   "id": "eed34121",
   "metadata": {},
   "outputs": [
    {
     "name": "stdout",
     "output_type": "stream",
     "text": [
      "Tea\n",
      "is\n",
      "healthy\n",
      "and\n",
      "I\n",
      "love\n",
      "cats\n"
     ]
    }
   ],
   "source": [
    "for token in doc:\n",
    "    print(token)"
   ]
  },
  {
   "cell_type": "code",
   "execution_count": null,
   "id": "2a633a62",
   "metadata": {},
   "outputs": [],
   "source": []
  }
 ],
 "metadata": {
  "kernelspec": {
   "display_name": "Python 3",
   "language": "python",
   "name": "python3"
  },
  "language_info": {
   "codemirror_mode": {
    "name": "ipython",
    "version": 3
   },
   "file_extension": ".py",
   "mimetype": "text/x-python",
   "name": "python",
   "nbconvert_exporter": "python",
   "pygments_lexer": "ipython3",
   "version": "3.8.5"
  }
 },
 "nbformat": 4,
 "nbformat_minor": 5
}
