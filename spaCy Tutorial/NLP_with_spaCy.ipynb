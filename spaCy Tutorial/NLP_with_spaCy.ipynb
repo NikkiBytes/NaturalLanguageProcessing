{
 "cells": [
  {
   "cell_type": "markdown",
   "id": "d6984153-7297-4518-a6e5-98af028cf63d",
   "metadata": {},
   "source": [
    "# NLP with spaCy"
   ]
  },
  {
   "cell_type": "code",
   "execution_count": null,
   "id": "723a1e67-5da3-4f65-be30-f51ffa6ba370",
   "metadata": {},
   "outputs": [],
   "source": []
  },
  {
   "cell_type": "code",
   "execution_count": null,
   "id": "0d1feed3-83e9-41ff-9367-9e44f6136c40",
   "metadata": {},
   "outputs": [],
   "source": []
  }
 ],
 "metadata": {
  "kernelspec": {
   "display_name": "Python 3",
   "language": "python",
   "name": "python3"
  },
  "language_info": {
   "codemirror_mode": {
    "name": "ipython",
    "version": 3
   },
   "file_extension": ".py",
   "mimetype": "text/x-python",
   "name": "python",
   "nbconvert_exporter": "python",
   "pygments_lexer": "ipython3",
   "version": "3.8.10"
  }
 },
 "nbformat": 4,
 "nbformat_minor": 5
}
