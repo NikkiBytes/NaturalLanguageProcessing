{
 "cells": [
  {
   "cell_type": "markdown",
   "id": "20275d50-081a-4bf5-92fd-d4b8bda865e5",
   "metadata": {},
   "source": [
    "# Text Analysis and Topic Modeleling with spaCy and genism"
   ]
  },
  {
   "cell_type": "code",
   "execution_count": 14,
   "id": "16359b5d-c27f-425d-b461-2d168dbd8d8b",
   "metadata": {},
   "outputs": [],
   "source": [
    "import os\n",
    "import numpy as np\n",
    "\n",
    "import spacy \n",
    "from spacy import displacy\n",
    "\n",
    "import gensim\n",
    "from gensim.corpora import Dictionary\n",
    "from gensim.models import LdaModel, CoherenceModel, LsiModel, HdpModel\n",
    "#from gensim.models.wrappers import LdaMallet\n",
    "\n",
    "import matplotlib.pyplot as plt\n",
    "import sklearn\n",
    "import keras\n",
    "\n",
    "import warnings\n",
    "\n",
    "warnings.filterwarnings('ignore', category=DeprecationWarning)\n",
    "# warnings.simplefilter('once')"
   ]
  },
  {
   "cell_type": "code",
   "execution_count": 15,
   "id": "ff6cadff-1ffd-44bf-a0a6-ea6c9d1041a2",
   "metadata": {},
   "outputs": [
    {
     "name": "stdout",
     "output_type": "stream",
     "text": [
      "C:\\Users\\19802\\anaconda3\\lib\\site-packages\\gensim\\test\\test_data\n",
      "C:\\Users\\19802\\anaconda3\\lib\\site-packages\\gensim\\test\\test_data\\lee_background.cor\n"
     ]
    }
   ],
   "source": [
    "test_data_dir = '{}'.format(os.sep).join([gensim.__path__[0], 'test', 'test_data'])\n",
    "print(test_data_dir)\n",
    "lee_train_file = test_data_dir + os.sep + 'lee_background.cor'\n",
    "print(lee_train_file)\n",
    "text = open(lee_train_file).read()"
   ]
  },
  {
   "cell_type": "code",
   "execution_count": 16,
   "id": "54c10ee2-be21-4aba-81c0-282f24257e2e",
   "metadata": {},
   "outputs": [],
   "source": [
    "nlp = spacy.load(\"en_core_web_sm\")\n"
   ]
  },
  {
   "cell_type": "code",
   "execution_count": 17,
   "id": "1bd2781e-f86d-4451-a075-d1cb9ee70e58",
   "metadata": {},
   "outputs": [],
   "source": [
    "my_stop_words = ['say', '\\s', 'mr', 'Mr', 'said', 'says', 'saying', 'today', 'be']\n",
    "for stopword in my_stop_words:\n",
    "    lexeme = nlp.vocab[stopword]\n",
    "    lexeme.is_stop = True"
   ]
  },
  {
   "cell_type": "code",
   "execution_count": 18,
   "id": "dc25ccda-2519-4ea0-9948-bbbd1a76a1b5",
   "metadata": {},
   "outputs": [],
   "source": [
    "doc = nlp(text)\n"
   ]
  },
  {
   "cell_type": "code",
   "execution_count": 20,
   "id": "0704674b-ea47-4b35-90a5-c9764970c625",
   "metadata": {},
   "outputs": [],
   "source": [
    "#doc"
   ]
  },
  {
   "cell_type": "code",
   "execution_count": null,
   "id": "e2df769a-ae3e-4d0f-9ab6-a5613b4c76af",
   "metadata": {},
   "outputs": [],
   "source": []
  }
 ],
 "metadata": {
  "kernelspec": {
   "display_name": "Python 3",
   "language": "python",
   "name": "python3"
  },
  "language_info": {
   "codemirror_mode": {
    "name": "ipython",
    "version": 3
   },
   "file_extension": ".py",
   "mimetype": "text/x-python",
   "name": "python",
   "nbconvert_exporter": "python",
   "pygments_lexer": "ipython3",
   "version": "3.8.10"
  }
 },
 "nbformat": 4,
 "nbformat_minor": 5
}
