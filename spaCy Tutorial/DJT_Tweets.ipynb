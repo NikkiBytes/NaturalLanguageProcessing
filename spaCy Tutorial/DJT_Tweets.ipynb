{
 "cells": [
  {
   "cell_type": "markdown",
   "id": "0d953bec-2ca0-4671-aa75-1ab64064e20a",
   "metadata": {},
   "source": [
    "# Natural Language Processing Practice with Tweets"
   ]
  },
  {
   "cell_type": "code",
   "execution_count": 39,
   "id": "1d9bb785-8aa9-449a-8a57-545f2eba6ab2",
   "metadata": {},
   "outputs": [],
   "source": [
    "import spacy  \n",
    "import pandas as pd \n",
    "import os, glob\n",
    "\n",
    "def printmd(string, color=None):\n",
    "    colorstr = \"<span style='color:{}'>{}</span>\".format(color, string)\n",
    "    display(Markdown(colorstr))\n",
    "    \n",
    "from IPython.display import Markdown, display\n"
   ]
  },
  {
   "cell_type": "code",
   "execution_count": null,
   "id": "4a488144-1f06-4c23-8707-7a375879ff37",
   "metadata": {},
   "outputs": [],
   "source": [
    "!python -m spacy download en_core_web_lg\n"
   ]
  },
  {
   "cell_type": "code",
   "execution_count": 20,
   "id": "a3d8debc-3b47-4dd7-aedc-6569729e2bee",
   "metadata": {},
   "outputs": [],
   "source": [
    "nlp = spacy.load('en_core_web_lg') # ;pad language\n"
   ]
  },
  {
   "cell_type": "code",
   "execution_count": 21,
   "id": "b28372b2-2480-4cf4-8c0d-1777d0c8f07f",
   "metadata": {},
   "outputs": [
    {
     "name": "stderr",
     "output_type": "stream",
     "text": [
      "C:\\Users\\19802\\anaconda3\\lib\\site-packages\\IPython\\core\\interactiveshell.py:3165: DtypeWarning: Columns (0,1,2,3,4,6) have mixed types.Specify dtype option on import or set low_memory=False.\n",
      "  has_raised = await self.run_ast_nodes(code_ast.body, cell_name,\n"
     ]
    },
    {
     "data": {
      "text/html": [
       "<div>\n",
       "<style scoped>\n",
       "    .dataframe tbody tr th:only-of-type {\n",
       "        vertical-align: middle;\n",
       "    }\n",
       "\n",
       "    .dataframe tbody tr th {\n",
       "        vertical-align: top;\n",
       "    }\n",
       "\n",
       "    .dataframe thead th {\n",
       "        text-align: right;\n",
       "    }\n",
       "</style>\n",
       "<table border=\"1\" class=\"dataframe\">\n",
       "  <thead>\n",
       "    <tr style=\"text-align: right;\">\n",
       "      <th></th>\n",
       "      <th>Unnamed: 0</th>\n",
       "      <th>source</th>\n",
       "      <th>text</th>\n",
       "      <th>created_at</th>\n",
       "      <th>retweet_count</th>\n",
       "      <th>favorite_count</th>\n",
       "      <th>is_retweet</th>\n",
       "      <th>id_str</th>\n",
       "    </tr>\n",
       "  </thead>\n",
       "  <tbody>\n",
       "    <tr>\n",
       "      <th>0</th>\n",
       "      <td>0</td>\n",
       "      <td>Twitter for iPhone</td>\n",
       "      <td>Over 90% approval rating for your all time fav...</td>\n",
       "      <td>Mon Aug 27 00:39:38 +0000 2018</td>\n",
       "      <td>27040</td>\n",
       "      <td>106838.0</td>\n",
       "      <td>False</td>\n",
       "      <td>1.033877e+18</td>\n",
       "    </tr>\n",
       "    <tr>\n",
       "      <th>1</th>\n",
       "      <td>1</td>\n",
       "      <td>Twitter for iPhone</td>\n",
       "      <td>“Mainstream Media tries to rewrite history to ...</td>\n",
       "      <td>Sun Aug 26 22:01:33 +0000 2018</td>\n",
       "      <td>21346</td>\n",
       "      <td>76682.0</td>\n",
       "      <td>False</td>\n",
       "      <td>1.033837e+18</td>\n",
       "    </tr>\n",
       "    <tr>\n",
       "      <th>2</th>\n",
       "      <td>2</td>\n",
       "      <td>Twitter for iPhone</td>\n",
       "      <td>Fantastic numbers on consumer spending release...</td>\n",
       "      <td>Sun Aug 26 14:31:06 +0000 2018</td>\n",
       "      <td>18960</td>\n",
       "      <td>87334.0</td>\n",
       "      <td>False</td>\n",
       "      <td>1.033724e+18</td>\n",
       "    </tr>\n",
       "    <tr>\n",
       "      <th>3</th>\n",
       "      <td>3</td>\n",
       "      <td>Twitter for iPhone</td>\n",
       "      <td>...And it will get, as I have always said, muc...</td>\n",
       "      <td>Sun Aug 26 14:27:16 +0000 2018</td>\n",
       "      <td>14963</td>\n",
       "      <td>62956.0</td>\n",
       "      <td>False</td>\n",
       "      <td>1.033723e+18</td>\n",
       "    </tr>\n",
       "    <tr>\n",
       "      <th>4</th>\n",
       "      <td>4</td>\n",
       "      <td>Twitter for iPhone</td>\n",
       "      <td>RT @realDonaldTrump: Social Media Giants are s...</td>\n",
       "      <td>Sun Aug 26 14:25:47 +0000 2018</td>\n",
       "      <td>50142</td>\n",
       "      <td>0.0</td>\n",
       "      <td>True</td>\n",
       "      <td>1.033722e+18</td>\n",
       "    </tr>\n",
       "  </tbody>\n",
       "</table>\n",
       "</div>"
      ],
      "text/plain": [
       "  Unnamed: 0              source  \\\n",
       "0          0  Twitter for iPhone   \n",
       "1          1  Twitter for iPhone   \n",
       "2          2  Twitter for iPhone   \n",
       "3          3  Twitter for iPhone   \n",
       "4          4  Twitter for iPhone   \n",
       "\n",
       "                                                text  \\\n",
       "0  Over 90% approval rating for your all time fav...   \n",
       "1  “Mainstream Media tries to rewrite history to ...   \n",
       "2  Fantastic numbers on consumer spending release...   \n",
       "3  ...And it will get, as I have always said, muc...   \n",
       "4  RT @realDonaldTrump: Social Media Giants are s...   \n",
       "\n",
       "                       created_at retweet_count  favorite_count is_retweet  \\\n",
       "0  Mon Aug 27 00:39:38 +0000 2018         27040        106838.0      False   \n",
       "1  Sun Aug 26 22:01:33 +0000 2018         21346         76682.0      False   \n",
       "2  Sun Aug 26 14:31:06 +0000 2018         18960         87334.0      False   \n",
       "3  Sun Aug 26 14:27:16 +0000 2018         14963         62956.0      False   \n",
       "4  Sun Aug 26 14:25:47 +0000 2018         50142             0.0       True   \n",
       "\n",
       "         id_str  \n",
       "0  1.033877e+18  \n",
       "1  1.033837e+18  \n",
       "2  1.033724e+18  \n",
       "3  1.033723e+18  \n",
       "4  1.033722e+18  "
      ]
     },
     "execution_count": 21,
     "metadata": {},
     "output_type": "execute_result"
    }
   ],
   "source": [
    "tweets=('../all_djt_tweets.csv')\n",
    "data=pd.read_csv(tweets)\n",
    "data.head()"
   ]
  },
  {
   "cell_type": "markdown",
   "id": "0780e593-b00a-4a5b-8660-a11609070350",
   "metadata": {},
   "source": [
    "## Named Entity Recognition (NER)  \n",
    "> spaCy can recognize various types of entities in a document, by asking the model for a prediction. "
   ]
  },
  {
   "cell_type": "code",
   "execution_count": 24,
   "id": "b745a142-d6e0-4d99-9b4a-3f618efe6ea6",
   "metadata": {},
   "outputs": [],
   "source": [
    "def text_entries_explanation(text):\n",
    "    doc=nlp(text)\n",
    "    for ent in doc.ents:\n",
    "        print(f'Entity: {ent}, Label: {ent.label_}, {spacy.explain(ent.label_)}')"
   ]
  },
  {
   "cell_type": "code",
   "execution_count": 26,
   "id": "7450a6bd-9f43-41e0-950a-bb4ae9e78917",
   "metadata": {},
   "outputs": [
    {
     "name": "stdout",
     "output_type": "stream",
     "text": [
      "Entity: FBI, Label: ORG, Companies, agencies, institutions, etc.\n",
      "Entity: 3000, Label: CARDINAL, Numerals that do not fall under another type\n",
      "Entity: 675,000, Label: CARDINAL, Numerals that do not fall under another type\n",
      "Entity: Hillary Clinton, Label: PERSON, People, including fictional\n"
     ]
    }
   ],
   "source": [
    "text_entries_explanation(data['text'][12])"
   ]
  },
  {
   "cell_type": "code",
   "execution_count": 30,
   "id": "797d7f3e-0304-4d38-93fe-316441a88c13",
   "metadata": {},
   "outputs": [
    {
     "data": {
      "text/html": [
       "<span class=\"tex2jax_ignore\"><div class=\"entities\" style=\"line-height: 2.5; direction: ltr\">\n",
       "<mark class=\"entity\" style=\"background: #aa9cfc; padding: 0.45em 0.6em; margin: 0 0.25em; line-height: 1; border-radius: 0.35em;\">\n",
       "    RT @realDonaldTrump:\n",
       "    <span style=\"font-size: 0.8em; font-weight: bold; line-height: 1; border-radius: 0.35em; vertical-align: middle; margin-left: 0.5rem\">PERSON</span>\n",
       "</mark>\n",
       " \n",
       "<mark class=\"entity\" style=\"background: #7aecec; padding: 0.45em 0.6em; margin: 0 0.25em; line-height: 1; border-radius: 0.35em;\">\n",
       "    Social Media Giants\n",
       "    <span style=\"font-size: 0.8em; font-weight: bold; line-height: 1; border-radius: 0.35em; vertical-align: middle; margin-left: 0.5rem\">ORG</span>\n",
       "</mark>\n",
       " are silencing \n",
       "<mark class=\"entity\" style=\"background: #e4e7d2; padding: 0.45em 0.6em; margin: 0 0.25em; line-height: 1; border-radius: 0.35em;\">\n",
       "    millions\n",
       "    <span style=\"font-size: 0.8em; font-weight: bold; line-height: 1; border-radius: 0.35em; vertical-align: middle; margin-left: 0.5rem\">CARDINAL</span>\n",
       "</mark>\n",
       " of people. Can’t do this even if it means we must continue to hear Fake New…</div></span>"
      ],
      "text/plain": [
       "<IPython.core.display.HTML object>"
      ]
     },
     "metadata": {},
     "output_type": "display_data"
    }
   ],
   "source": [
    "one_sentence=data['text'][4]\n",
    "doc=nlp(one_sentence)\n",
    "spacy.displacy.render(doc, style='ent', jupyter=True)"
   ]
  },
  {
   "cell_type": "code",
   "execution_count": 32,
   "id": "d9cad694-697f-4555-883a-e00ec22e3258",
   "metadata": {},
   "outputs": [
    {
     "data": {
      "text/html": [
       "<span class=\"tex2jax_ignore\"><div class=\"entities\" style=\"line-height: 2.5; direction: ltr\">\n",
       "<mark class=\"entity\" style=\"background: #aa9cfc; padding: 0.45em 0.6em; margin: 0 0.25em; line-height: 1; border-radius: 0.35em;\">\n",
       "    RT @realDonaldTrump\n",
       "    <span style=\"font-size: 0.8em; font-weight: bold; line-height: 1; border-radius: 0.35em; vertical-align: middle; margin-left: 0.5rem\">PERSON</span>\n",
       "</mark>\n",
       ": ...\n",
       "<mark class=\"entity\" style=\"background: #aa9cfc; padding: 0.45em 0.6em; margin: 0 0.25em; line-height: 1; border-radius: 0.35em;\">\n",
       "    Danny O’Connor\n",
       "    <span style=\"font-size: 0.8em; font-weight: bold; line-height: 1; border-radius: 0.35em; vertical-align: middle; margin-left: 0.5rem\">PERSON</span>\n",
       "</mark>\n",
       " is a total puppet for \n",
       "<mark class=\"entity\" style=\"background: #aa9cfc; padding: 0.45em 0.6em; margin: 0 0.25em; line-height: 1; border-radius: 0.35em;\">\n",
       "    Nancy Pelosi\n",
       "    <span style=\"font-size: 0.8em; font-weight: bold; line-height: 1; border-radius: 0.35em; vertical-align: middle; margin-left: 0.5rem\">PERSON</span>\n",
       "</mark>\n",
       " and \n",
       "<mark class=\"entity\" style=\"background: #aa9cfc; padding: 0.45em 0.6em; margin: 0 0.25em; line-height: 1; border-radius: 0.35em;\">\n",
       "    Maxine Waters – Danny\n",
       "    <span style=\"font-size: 0.8em; font-weight: bold; line-height: 1; border-radius: 0.35em; vertical-align: middle; margin-left: 0.5rem\">PERSON</span>\n",
       "</mark>\n",
       " wants to raise your taxes, open your bo…</div></span>"
      ],
      "text/plain": [
       "<IPython.core.display.HTML object>"
      ]
     },
     "metadata": {},
     "output_type": "display_data"
    }
   ],
   "source": [
    "one_sentence = data['text'][240]\n",
    "doc = nlp(one_sentence)\n",
    "spacy.displacy.render(doc, style='ent',jupyter=True)"
   ]
  },
  {
   "cell_type": "code",
   "execution_count": 33,
   "id": "109496b1-6704-4b78-8347-72c7f191d738",
   "metadata": {},
   "outputs": [
    {
     "data": {
      "text/html": [
       "<span class=\"tex2jax_ignore\"><div class=\"entities\" style=\"line-height: 2.5; direction: ltr\">The Rigged \n",
       "<mark class=\"entity\" style=\"background: #aa9cfc; padding: 0.45em 0.6em; margin: 0 0.25em; line-height: 1; border-radius: 0.35em;\">\n",
       "    Witch Hunt\n",
       "    <span style=\"font-size: 0.8em; font-weight: bold; line-height: 1; border-radius: 0.35em; vertical-align: middle; margin-left: 0.5rem\">PERSON</span>\n",
       "</mark>\n",
       ", headed by the \n",
       "<mark class=\"entity\" style=\"background: #e4e7d2; padding: 0.45em 0.6em; margin: 0 0.25em; line-height: 1; border-radius: 0.35em;\">\n",
       "    13\n",
       "    <span style=\"font-size: 0.8em; font-weight: bold; line-height: 1; border-radius: 0.35em; vertical-align: middle; margin-left: 0.5rem\">CARDINAL</span>\n",
       "</mark>\n",
       " Angry \n",
       "<mark class=\"entity\" style=\"background: #c887fb; padding: 0.45em 0.6em; margin: 0 0.25em; line-height: 1; border-radius: 0.35em;\">\n",
       "    Democrats\n",
       "    <span style=\"font-size: 0.8em; font-weight: bold; line-height: 1; border-radius: 0.35em; vertical-align: middle; margin-left: 0.5rem\">NORP</span>\n",
       "</mark>\n",
       " (and now \n",
       "<mark class=\"entity\" style=\"background: #e4e7d2; padding: 0.45em 0.6em; margin: 0 0.25em; line-height: 1; border-radius: 0.35em;\">\n",
       "    4\n",
       "    <span style=\"font-size: 0.8em; font-weight: bold; line-height: 1; border-radius: 0.35em; vertical-align: middle; margin-left: 0.5rem\">CARDINAL</span>\n",
       "</mark>\n",
       " more have been added, one who worked directly for \n",
       "<mark class=\"entity\" style=\"background: #aa9cfc; padding: 0.45em 0.6em; margin: 0 0.25em; line-height: 1; border-radius: 0.35em;\">\n",
       "    Obama W.H.\n",
       "    <span style=\"font-size: 0.8em; font-weight: bold; line-height: 1; border-radius: 0.35em; vertical-align: middle; margin-left: 0.5rem\">PERSON</span>\n",
       "</mark>\n",
       "), seems intent on damaging \n",
       "<mark class=\"entity\" style=\"background: #7aecec; padding: 0.45em 0.6em; margin: 0 0.25em; line-height: 1; border-radius: 0.35em;\">\n",
       "    the Republican Party’s\n",
       "    <span style=\"font-size: 0.8em; font-weight: bold; line-height: 1; border-radius: 0.35em; vertical-align: middle; margin-left: 0.5rem\">ORG</span>\n",
       "</mark>\n",
       " chances in the November Election. This \n",
       "<mark class=\"entity\" style=\"background: #c887fb; padding: 0.45em 0.6em; margin: 0 0.25em; line-height: 1; border-radius: 0.35em;\">\n",
       "    Democrat\n",
       "    <span style=\"font-size: 0.8em; font-weight: bold; line-height: 1; border-radius: 0.35em; vertical-align: middle; margin-left: 0.5rem\">NORP</span>\n",
       "</mark>\n",
       " excuse for losing the ‘16 Election never ends!</div></span>"
      ],
      "text/plain": [
       "<IPython.core.display.HTML object>"
      ]
     },
     "metadata": {},
     "output_type": "display_data"
    }
   ],
   "source": [
    "one_sentence = data['text'][450]\n",
    "doc = nlp(one_sentence)\n",
    "spacy.displacy.render(doc, style='ent',jupyter=True)"
   ]
  },
  {
   "cell_type": "markdown",
   "id": "764a3a64-eaa3-45c2-9cec-5b97c6a21a03",
   "metadata": {},
   "source": [
    "### Redacting Names  \n",
    "A simple case for NER is to automatically redact names.  \n",
    "Examples where it may be useful,  \n",
    "- to ensure that your company data actually complies with GDPR  \n",
    "- when journalists want to publish a large set of documents while still hiding the identity of their sources  \n",
    "\n",
    "We do this redaction by following broad steps:  \n",
    "   1. find all PERSON names \n",
    "   2. replace these by a filler like [\"REDACTED\"]  \n"
   ]
  },
  {
   "cell_type": "code",
   "execution_count": 50,
   "id": "e890b6dd-a878-4ec9-b127-4fdd312dfde0",
   "metadata": {},
   "outputs": [],
   "source": [
    "def redact_names(text):\n",
    "    doc=nlp(text)\n",
    "    redacted_sentence=[]\n",
    "    with doc.retokenize() as retokenizer:\n",
    "        for ent in doc.ents:\n",
    "            retokenizer.merge(ent)\n",
    "        \n",
    "    for token in doc:\n",
    "        if token.ent_type_ == \"PERSON\":\n",
    "            redacted_sentence.append(\"[REDACTED]\")\n",
    "        else:\n",
    "            redacted_sentence.append(token.ent_type_)\n",
    "    return \"\".join(redacted_sentence)"
   ]
  },
  {
   "cell_type": "code",
   "execution_count": 51,
   "id": "05b5c0ba-68a4-4859-b0f6-6f6a2605279e",
   "metadata": {},
   "outputs": [
    {
     "data": {
      "text/markdown": [
       "<span style='color:blue'>**Before**</span>"
      ],
      "text/plain": [
       "<IPython.core.display.Markdown object>"
      ]
     },
     "metadata": {},
     "output_type": "display_data"
    },
    {
     "data": {
      "text/html": [
       "<span class=\"tex2jax_ignore\"><div class=\"entities\" style=\"line-height: 2.5; direction: ltr\">The Rigged \n",
       "<mark class=\"entity\" style=\"background: #aa9cfc; padding: 0.45em 0.6em; margin: 0 0.25em; line-height: 1; border-radius: 0.35em;\">\n",
       "    Witch Hunt\n",
       "    <span style=\"font-size: 0.8em; font-weight: bold; line-height: 1; border-radius: 0.35em; vertical-align: middle; margin-left: 0.5rem\">PERSON</span>\n",
       "</mark>\n",
       ", headed by the \n",
       "<mark class=\"entity\" style=\"background: #e4e7d2; padding: 0.45em 0.6em; margin: 0 0.25em; line-height: 1; border-radius: 0.35em;\">\n",
       "    13\n",
       "    <span style=\"font-size: 0.8em; font-weight: bold; line-height: 1; border-radius: 0.35em; vertical-align: middle; margin-left: 0.5rem\">CARDINAL</span>\n",
       "</mark>\n",
       " Angry \n",
       "<mark class=\"entity\" style=\"background: #c887fb; padding: 0.45em 0.6em; margin: 0 0.25em; line-height: 1; border-radius: 0.35em;\">\n",
       "    Democrats\n",
       "    <span style=\"font-size: 0.8em; font-weight: bold; line-height: 1; border-radius: 0.35em; vertical-align: middle; margin-left: 0.5rem\">NORP</span>\n",
       "</mark>\n",
       " (and now \n",
       "<mark class=\"entity\" style=\"background: #e4e7d2; padding: 0.45em 0.6em; margin: 0 0.25em; line-height: 1; border-radius: 0.35em;\">\n",
       "    4\n",
       "    <span style=\"font-size: 0.8em; font-weight: bold; line-height: 1; border-radius: 0.35em; vertical-align: middle; margin-left: 0.5rem\">CARDINAL</span>\n",
       "</mark>\n",
       " more have been added, one who worked directly for \n",
       "<mark class=\"entity\" style=\"background: #aa9cfc; padding: 0.45em 0.6em; margin: 0 0.25em; line-height: 1; border-radius: 0.35em;\">\n",
       "    Obama W.H.\n",
       "    <span style=\"font-size: 0.8em; font-weight: bold; line-height: 1; border-radius: 0.35em; vertical-align: middle; margin-left: 0.5rem\">PERSON</span>\n",
       "</mark>\n",
       "), seems intent on damaging \n",
       "<mark class=\"entity\" style=\"background: #7aecec; padding: 0.45em 0.6em; margin: 0 0.25em; line-height: 1; border-radius: 0.35em;\">\n",
       "    the Republican Party’s\n",
       "    <span style=\"font-size: 0.8em; font-weight: bold; line-height: 1; border-radius: 0.35em; vertical-align: middle; margin-left: 0.5rem\">ORG</span>\n",
       "</mark>\n",
       " chances in the November Election. This \n",
       "<mark class=\"entity\" style=\"background: #c887fb; padding: 0.45em 0.6em; margin: 0 0.25em; line-height: 1; border-radius: 0.35em;\">\n",
       "    Democrat\n",
       "    <span style=\"font-size: 0.8em; font-weight: bold; line-height: 1; border-radius: 0.35em; vertical-align: middle; margin-left: 0.5rem\">NORP</span>\n",
       "</mark>\n",
       " excuse for losing the ‘16 Election never ends!</div></span>"
      ],
      "text/plain": [
       "<IPython.core.display.HTML object>"
      ]
     },
     "metadata": {},
     "output_type": "display_data"
    },
    {
     "data": {
      "text/markdown": [
       "<span style='color:blue'>**After**</span>"
      ],
      "text/plain": [
       "<IPython.core.display.Markdown object>"
      ]
     },
     "metadata": {},
     "output_type": "display_data"
    },
    {
     "name": "stderr",
     "output_type": "stream",
     "text": [
      "C:\\Users\\19802\\anaconda3\\lib\\site-packages\\spacy\\displacy\\__init__.py:189: UserWarning: [W006] No entities to visualize found in Doc object. If this is surprising to you, make sure the Doc was processed using a model that supports named entity recognition, and check the `doc.ents` property manually if necessary.\n",
      "  warnings.warn(Warnings.W006)\n"
     ]
    },
    {
     "data": {
      "text/html": [
       "<span class=\"tex2jax_ignore\"><div class=\"entities\" style=\"line-height: 2.5; direction: ltr\">[REDACTED]CARDINALNORPCARDINAL[REDACTED]ORGNORP</div></span>"
      ],
      "text/plain": [
       "<IPython.core.display.HTML object>"
      ]
     },
     "metadata": {},
     "output_type": "display_data"
    },
    {
     "data": {
      "text/markdown": [
       "<span style='color:#6290c8'>Notice that `Obama W.H.` was removed</span>"
      ],
      "text/plain": [
       "<IPython.core.display.Markdown object>"
      ]
     },
     "metadata": {},
     "output_type": "display_data"
    }
   ],
   "source": [
    "printmd(\"**Before**\", color=\"blue\")\n",
    "one_sentence = data['text'][450]\n",
    "doc = nlp(one_sentence)\n",
    "spacy.displacy.render(doc, style='ent',jupyter=True)\n",
    "\n",
    "\n",
    "printmd(\"**After**\", color=\"blue\")\n",
    "one_sentence = redact_names(data['text'][450])\n",
    "doc = nlp(one_sentence)\n",
    "spacy.displacy.render(doc, style='ent',jupyter=True)\n",
    "\n",
    "printmd(\"Notice that `Obama W.H.` was removed\", color=\"#6290c8\")\n"
   ]
  },
  {
   "cell_type": "code",
   "execution_count": null,
   "id": "68881e17-6ced-4e21-8fcf-4ae72b623cdb",
   "metadata": {},
   "outputs": [],
   "source": []
  },
  {
   "cell_type": "code",
   "execution_count": null,
   "id": "fa222436-b38a-41c7-bfa5-0198caa668c3",
   "metadata": {},
   "outputs": [],
   "source": []
  }
 ],
 "metadata": {
  "kernelspec": {
   "display_name": "Python 3",
   "language": "python",
   "name": "python3"
  },
  "language_info": {
   "codemirror_mode": {
    "name": "ipython",
    "version": 3
   },
   "file_extension": ".py",
   "mimetype": "text/x-python",
   "name": "python",
   "nbconvert_exporter": "python",
   "pygments_lexer": "ipython3",
   "version": "3.8.10"
  }
 },
 "nbformat": 4,
 "nbformat_minor": 5
}
