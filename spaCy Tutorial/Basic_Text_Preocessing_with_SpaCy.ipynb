{
 "cells": [
  {
   "cell_type": "markdown",
   "source": [
    "# Basic Text Processing with SpaCy  "
   ],
   "metadata": {}
  },
  {
   "cell_type": "markdown",
   "source": [
    "The Problem: You're a consultant for DelFalco's Italian Restaurant. The owner asked you to identify whether there are any foods on their menu that diners find disappointing."
   ],
   "metadata": {}
  },
  {
   "cell_type": "code",
   "execution_count": 1,
   "source": [
    "import pandas as pd\r\n",
    "\r\n"
   ],
   "outputs": [],
   "metadata": {}
  },
  {
   "cell_type": "markdown",
   "source": [
    "## Step 2: Find items in one review¶\n",
    "You'll pursue this plan of calculating average scores of the reviews mentioning each menu item.\n",
    "\n",
    "As a first step, you'll write code to extract the foods mentioned in a single review.\n",
    "\n",
    "Since menu items are multiple tokens long, you'll use `PhraseMatcher` which can match series of tokens."
   ],
   "metadata": {}
  },
  {
   "cell_type": "code",
   "execution_count": null,
   "source": [
    "import spacy\r\n",
    "from spacy.matcher import PhraseMatcher\r\n",
    "\r\n",
    "index_of_review_to_test_on = 14\r\n",
    "text_to_test_on = data.text.iloc[index_of_review_to_test_on]\r\n",
    "\r\n",
    "# Load the SpaCy model\r\n",
    "nlp = spacy.blank('en')\r\n",
    "\r\n",
    "# Create the tokenized version of text_to_test_on\r\n",
    "review_doc = nlp(text_to_test_on)\r\n",
    "\r\n",
    "# Create the PhraseMatcher object. The tokenizer is the first argument. Use attr = 'LOWER' to make consistent capitalization\r\n",
    "matcher = PhraseMatcher(nlp.vocab, attr='LOWER')\r\n",
    "\r\n",
    "# Create a list of tokens for each item in the menu\r\n",
    "menu_tokens_list = [nlp(item) for item in menu]\r\n",
    "\r\n",
    "# Add the item patterns to the matcher. \r\n",
    "# Look at https://spacy.io/api/phrasematcher#add in the docs for help with this step\r\n",
    "# Then uncomment the lines below \r\n",
    "\r\n",
    "    \r\n",
    "matcher.add(\"MENU\", menu_tokens_list)\r\n",
    "\r\n",
    "# Find matches in the review_doc\r\n",
    "matches = matcher(review_doc)\r\n",
    "\r\n",
    "# Uncomment to check your work\r\n",
    "q_2.check()"
   ],
   "outputs": [],
   "metadata": {}
  },
  {
   "cell_type": "markdown",
   "source": [
    "## Step 3: Matching on the whole dataset\n",
    "\n",
    "Now run this matcher over the whole dataset and collect ratings for each menu item. Each review has a rating, `review.stars`. For each item that appears in the review text (`review.text`), append the review's rating to a list of ratings for that item. The lists are kept in a dictionary `item_ratings`.\n",
    "\n",
    "To get the matched phrases, you can reference the `PhraseMatcher` documentation for the structure of each match object:\n",
    "\n",
    ">A list of `(match_id, start, end)` tuples, describing the matches. A match tuple describes a span `doc[start:end]`. The `match_id` is the ID of the added match pattern."
   ],
   "metadata": {}
  },
  {
   "cell_type": "code",
   "execution_count": null,
   "source": [
    "from collections import defaultdict\r\n",
    "\r\n",
    "# item_ratings is a dictionary of lists. If a key doesn't exist in item_ratings,\r\n",
    "# the key is added with an empty list as the value.\r\n",
    "item_ratings = defaultdict(list)\r\n",
    "\r\n",
    "for idx, review in data.iterrows():\r\n",
    "    doc = nlp(review.text)\r\n",
    "    # Using the matcher from the previous exercise\r\n",
    "    matches = matcher(doc)\r\n",
    "    \r\n",
    "    # Create a set of the items found in the review text\r\n",
    "    found_items = set([doc[match[1]:match[2]].lower_ for match in matches])\r\n",
    "    \r\n",
    "    # Update item_ratings with rating for each item in found_items\r\n",
    "    # Transform the item strings to lowercase to make it case insensitive\r\n",
    "    for item in found_items:\r\n",
    "        item_ratings[item].append(review.stars)\r\n",
    "\r\n",
    "#q_3.check()"
   ],
   "outputs": [],
   "metadata": {}
  },
  {
   "cell_type": "markdown",
   "source": [
    "## Step 4: What's the worst reviewed item?\n",
    "\n",
    "Using these item ratings, find the menu item with the worst average rating."
   ],
   "metadata": {}
  },
  {
   "cell_type": "code",
   "execution_count": null,
   "source": [
    "# Calculate the mean ratings for each menu item as a dictionary\r\n",
    "import statistics as stats\r\n",
    "mean_ratings=dict()\r\n",
    "for item in item_ratings:\r\n",
    "    item_mean=stats.mean(item_ratings[item])\r\n",
    "    mean_ratings[item]=item_mean\r\n",
    "\r\n",
    "# Find the worst item, and write it as a string in worst_item. This can be multiple lines of code if you want.\r\n",
    "worst_item = str(min(mean_ratings, key=mean_ratings.get))\r\n",
    "#print(worst_item)\r\n",
    "\r\n",
    "#q_4.check()"
   ],
   "outputs": [],
   "metadata": {}
  },
  {
   "cell_type": "markdown",
   "source": [
    "## Step 5: Are counts important here?\n",
    "\n",
    "Similar to the mean ratings, you can calculate the number of reviews for each item."
   ],
   "metadata": {}
  },
  {
   "cell_type": "code",
   "execution_count": null,
   "source": [
    "counts = {item: len(ratings) for item, ratings in item_ratings.items()}\n",
    "\n",
    "item_counts = sorted(counts, key=counts.get, reverse=True)\n",
    "for item in item_counts:\n",
    "    print(f\"{item:>25}{counts[item]:>5}\")"
   ],
   "outputs": [],
   "metadata": {}
  },
  {
   "cell_type": "code",
   "execution_count": null,
   "source": [
    "sorted_ratings = sorted(mean_ratings, key=mean_ratings.get)\n",
    "\n",
    "print(\"Worst rated menu items:\")\n",
    "for item in sorted_ratings[:10]:\n",
    "    print(f\"{item:20} Ave rating: {mean_ratings[item]:.2f} \\tcount: {counts[item]}\")\n",
    "    \n",
    "print(\"\\n\\nBest rated menu items:\")\n",
    "for item in sorted_ratings[-10:]:\n",
    "    print(f\"{item:20} Ave rating: {mean_ratings[item]:.2f} \\tcount: {counts[item]}\")"
   ],
   "outputs": [],
   "metadata": {}
  },
  {
   "cell_type": "markdown",
   "source": [
    "# Reference \n",
    "https://www.kaggle.com/nichollette/exercise-intro-to-nlp/edit"
   ],
   "metadata": {}
  },
  {
   "cell_type": "markdown",
   "source": [
    "---"
   ],
   "metadata": {}
  }
 ],
 "metadata": {
  "kernelspec": {
   "display_name": "Python 3",
   "language": "python",
   "name": "python3"
  },
  "language_info": {
   "codemirror_mode": {
    "name": "ipython",
    "version": 3
   },
   "file_extension": ".py",
   "mimetype": "text/x-python",
   "name": "python",
   "nbconvert_exporter": "python",
   "pygments_lexer": "ipython3",
   "version": "3.8.5"
  }
 },
 "nbformat": 4,
 "nbformat_minor": 5
}